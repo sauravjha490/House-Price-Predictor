{
 "cells": [
  {
   "cell_type": "code",
   "execution_count": 4,
   "id": "968adb3b",
   "metadata": {},
   "outputs": [
    {
     "name": "stdout",
     "output_type": "stream",
     "text": [
      " * Serving Flask app \"__main__\" (lazy loading)\n",
      " * Environment: production\n",
      "\u001b[31m   WARNING: This is a development server. Do not use it in a production deployment.\u001b[0m\n",
      "\u001b[2m   Use a production WSGI server instead.\u001b[0m\n",
      " * Debug mode: on\n"
     ]
    },
    {
     "name": "stderr",
     "output_type": "stream",
     "text": [
      " * Restarting with watchdog (windowsapi)\n"
     ]
    },
    {
     "ename": "SystemExit",
     "evalue": "1",
     "output_type": "error",
     "traceback": [
      "An exception has occurred, use %tb to see the full traceback.\n",
      "\u001b[1;31mSystemExit\u001b[0m\u001b[1;31m:\u001b[0m 1\n"
     ]
    }
   ],
   "source": [
    "#Import main library\n",
    "import numpy as np\n",
    "\n",
    "#Import Flask modules\n",
    "from flask import Flask, request, render_template\n",
    "\n",
    "#Import pickle to save our regression model\n",
    "import pickle \n",
    "\n",
    "#Initialize Flask and set the template folder to \"template\"\n",
    "app = Flask(__name__, template_folder = 'template')\n",
    "\n",
    "#Open our model \n",
    "model = pickle.load(open('model.pkl','rb'))\n",
    "\n",
    "#create our \"home\" route using the \"index.html\" page\n",
    "@app.route('/')\n",
    "def home():\n",
    "    return render_template('index.html')\n",
    "\n",
    "#Set a post method to yield predictions on page\n",
    "@app.route('/', methods = ['POST'])\n",
    "def predict():\n",
    "    \n",
    "    #obtain all form values and place them in an array, convert into integers\n",
    "    int_features = [int(x) for x in request.form.values()]\n",
    "    #Combine them all into a final numpy array\n",
    "    final_features = [np.array(int_features)]\n",
    "    #predict the price given the values inputted by user\n",
    "    prediction = model.predict(final_features)\n",
    "    \n",
    "    #Round the output to 2 decimal places\n",
    "    output = round(prediction[0], 2)\n",
    "    \n",
    "    #If the output is negative, the values entered are unreasonable to the context of the application\n",
    "    #If the output is greater than 0, return prediction\n",
    "    if output < 0:\n",
    "        return render_template('index.html', prediction_text = \"Predicted Price is negative, values entered not reasonable\")\n",
    "    elif output >= 0:\n",
    "        return render_template('index.html', prediction_text = 'Predicted Price of the house is: ${}'.format(output))   \n",
    "\n",
    "#Run app\n",
    "if __name__ == \"__main__\":\n",
    "    app.run(debug=True)"
   ]
  },
  {
   "cell_type": "code",
   "execution_count": null,
   "id": "704cbb74",
   "metadata": {},
   "outputs": [],
   "source": []
  }
 ],
 "metadata": {
  "kernelspec": {
   "display_name": "Python 3 (ipykernel)",
   "language": "python",
   "name": "python3"
  },
  "language_info": {
   "codemirror_mode": {
    "name": "ipython",
    "version": 3
   },
   "file_extension": ".py",
   "mimetype": "text/x-python",
   "name": "python",
   "nbconvert_exporter": "python",
   "pygments_lexer": "ipython3",
   "version": "3.9.13"
  }
 },
 "nbformat": 4,
 "nbformat_minor": 5
}
